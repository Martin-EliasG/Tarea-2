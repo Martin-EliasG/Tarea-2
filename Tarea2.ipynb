{
  "cells": [
    {
      "cell_type": "markdown",
      "metadata": {
        "id": "view-in-github",
        "colab_type": "text"
      },
      "source": [
        "<a href=\"https://colab.research.google.com/github/Martin-EliasG/Tarea-2/blob/main/Tarea2.ipynb\" target=\"_parent\"><img src=\"https://colab.research.google.com/assets/colab-badge.svg\" alt=\"Open In Colab\"/></a>"
      ]
    },
    {
      "cell_type": "markdown",
      "metadata": {
        "id": "IMRse1InR9l0"
      },
      "source": [
        "# **CD2201-16: Ciencia de Datos en Astronomía**\n",
        "\n",
        "**Profesores:** Boris Cuevas, Paula Díaz, Danilo Sepúlveda, Francisco Urbina\n",
        "\n",
        "# **Tarea 2: Análisis Estadístico Simple**\n",
        "En esta tarea continuaremos practicando con *Numpy, Pandas y Matplotlib* mientras también aprenderán a realizar análisis estadísticos básicos con estas librerías.\n",
        "\n",
        "A estas alturas ya deben tener una noción de estadística y su aplicación en astronomía. La tarea consiste en hacer estimaciones sencillas a partir de datos astronómicos, usando herramientas básicas de Python que permiten trabajar con la estadística de distribuciones de datos.\n",
        "\n",
        "La tarea está dividida en dos partes. La primera consiste en realizar una estimación del movimiento propio de un cúmulo globular ubicado en el halo de nuestra Galaxia a partir de la distribución de estos datos. La segunda parte consiste en comprobar cómo cambia la Señal a Ruido (S/N) al promediar varios espectros de un objeto. No es necesario que tengan conocimientos previos de astronomía por ahora, basta con que sepan manipular los datos indicados.\n",
        "\n",
        "Esta tarea involucra la creación de varias figuras. Así que **póngase creativo con las figuras :D, sus colores, formas, leyendas, etc. También asegúrese de siempre colocar un título y nombre a los ejes!**"
      ]
    },
    {
      "cell_type": "code",
      "execution_count": null,
      "metadata": {
        "id": "tlfuUWe3TmIp"
      },
      "outputs": [],
      "source": [
        "# Antes de comenzar con la tarea debe correr esta celda para importar las librerías principales a utilizar\n",
        "import numpy as np\n",
        "import pandas as pd\n",
        "import matplotlib.pyplot as plt"
      ]
    },
    {
      "cell_type": "markdown",
      "metadata": {
        "id": "MmDljzJPNoT8"
      },
      "source": [
        "# Primera parte: Estimar movimiento propio del cúmulo globular NGC 5694\n"
      ]
    },
    {
      "cell_type": "markdown",
      "metadata": {
        "id": "SOUcmgezROKf"
      },
      "source": [
        "En esta primera parte trataremos de estimar una cantidad en astronomía que se llama \"movimiento propio\" para un cúmulo globular llamado [NGC 5694](https://en.wikipedia.org/wiki/NGC_5694). Éste cúmulo globular se encuentra en el halo de nuestra Vía Láctea.\n",
        "\n",
        "El movimiento propio de una estrella es el desplazamiento que esta tiene en el cielo, visto desde la Tierra, con el paso del tiempo. Aunque las estrellas parecen fijas a simple vista, en realidad se están moviendo a través del espacio. El movimiento propio mide este cambio en la posición de la estrella, no hacia nosotros ni alejándose, sino moviéndose de forma lateral en el cielo. Las unidades de medida de esta cantidad son mas/yr (miliarcseconds per year), una cantidad muuuuuuy pequeña."
      ]
    },
    {
      "cell_type": "markdown",
      "metadata": {
        "id": "f4d2PHoYeMet"
      },
      "source": [
        "Para que dimensione lo pequeña que es esta cantidad, calcule cuántos años le tomaría a una estrella, que se desplaza exclusivamente en dirección horizontal en el cielo con un movimiento propio de 1mas/yr, cubrir una distancia de 0.5 grados en el cielo en la misma dirección (equivalente al tamaño aparente de la Luna en el cielo).\n",
        "\n",
        "Hint: 1 grado corresponde a $3.6$ x $10^6$ mas."
      ]
    },
    {
      "cell_type": "code",
      "execution_count": null,
      "metadata": {
        "id": "ugPRYK9XdzJA",
        "colab": {
          "base_uri": "https://localhost:8080/"
        },
        "outputId": "2933b02d-4547-4c91-d7fa-bb97e6bae9e1"
      },
      "outputs": [
        {
          "output_type": "execute_result",
          "data": {
            "text/plain": [
              "1800000.0"
            ]
          },
          "metadata": {},
          "execution_count": 3
        }
      ],
      "source": [
        "# Haga el cálculo aquí\n",
        "\n",
        "def year(v):\n",
        "  t = 0.5 * 3.6e6 / v\n",
        "  return t\n",
        "\n",
        "year(1)"
      ]
    },
    {
      "cell_type": "markdown",
      "metadata": {
        "id": "yckQW6vpNwBD"
      },
      "source": [
        "### a) Cargar los Datos\n",
        "\n",
        "Primero debe montar el drive, lo que permite leer archivos guardados en el mismo. Para esto debe correr la celda de abajo."
      ]
    },
    {
      "cell_type": "code",
      "execution_count": null,
      "metadata": {
        "id": "x3pfbt8mPy3d",
        "colab": {
          "base_uri": "https://localhost:8080/"
        },
        "outputId": "21798b45-b6fb-4e31-a4de-20ca4e957111"
      },
      "outputs": [
        {
          "output_type": "stream",
          "name": "stdout",
          "text": [
            "Mounted at /content/drive\n"
          ]
        }
      ],
      "source": [
        "from google.colab import drive\n",
        "drive.mount('/content/drive')"
      ]
    },
    {
      "cell_type": "markdown",
      "metadata": {
        "id": "LsycK59LyoOm"
      },
      "source": [
        "Importe el archivo **ngc5694_pm.csv** utilizando la función **pd.read_csv(path)** y guárdelo como **data**.\n",
        "\n",
        "En la barra de herramientas ubicada en la izquierda, puede encontrar la ruta (path) al archivo \"ngc5694_pm.csv\" dentro de su drive. Copie la ruta y cargue dicha base de datos en la siguiente celda como se le indica."
      ]
    },
    {
      "cell_type": "code",
      "execution_count": null,
      "metadata": {
        "id": "dfz4NMyXQE9g"
      },
      "outputs": [],
      "source": [
        "path_archivo = '/content/drive/MyDrive/Colab Notebooks/ngc5694_pm.csv'\n",
        "df_cumulus = pd.read_csv(path_archivo)"
      ]
    },
    {
      "cell_type": "markdown",
      "metadata": {
        "id": "iG__ZWN0uIpr"
      },
      "source": [
        "### b) Explorar el DataFrame\n",
        "Explore las columnas del archivo y muestre el DataFrame"
      ]
    },
    {
      "cell_type": "code",
      "execution_count": null,
      "metadata": {
        "id": "z4UDi62JuTzQ",
        "colab": {
          "base_uri": "https://localhost:8080/"
        },
        "outputId": "9e0335e6-a26b-4afd-d188-2cc7779e610d"
      },
      "outputs": [
        {
          "output_type": "stream",
          "name": "stdout",
          "text": [
            "Index(['Unnamed: 0', 'ra', 'dec', 'pmra', 'pmdec'], dtype='object')\n"
          ]
        }
      ],
      "source": [
        "# Muestra las columnas aquí\n",
        "print(df_cumulus.columns)\n"
      ]
    },
    {
      "cell_type": "code",
      "execution_count": null,
      "metadata": {
        "id": "IR0mpS32uYlh",
        "colab": {
          "base_uri": "https://localhost:8080/"
        },
        "outputId": "2a6e4bf1-4b1d-4ed3-9b2c-c41b4135919f"
      },
      "outputs": [
        {
          "output_type": "stream",
          "name": "stdout",
          "text": [
            "     Unnamed: 0          ra        dec      pmra     pmdec\n",
            "0             0  219.370629 -27.312548  0.053134 -1.674613\n",
            "1             1  219.373996 -27.243801 -0.960711 -0.283708\n",
            "2             2  219.363458 -27.213113  0.674957 -1.741153\n",
            "3             3  219.336931 -27.172985 -0.057975 -0.564131\n",
            "4             4  219.463706 -27.189408 -0.438914 -0.487856\n",
            "..          ...         ...        ...       ...       ...\n",
            "616         616  220.732855 -26.148055 -0.269935 -0.891652\n",
            "617         617  220.710525 -26.150902 -0.962554 -0.400258\n",
            "618         618  219.327652 -27.267281 -0.796753 -0.266571\n",
            "619         619  219.225796 -27.172318 -0.901963 -0.302597\n",
            "620         620  219.162241 -27.121378  0.059221 -1.300554\n",
            "\n",
            "[621 rows x 5 columns]\n"
          ]
        }
      ],
      "source": [
        "# Muestra el DataFrame aquí\n",
        "print(df_cumulus)"
      ]
    },
    {
      "cell_type": "markdown",
      "metadata": {
        "id": "q_CLEl5CzgPM"
      },
      "source": [
        "### c) Graficar un scatter plot\n",
        "Cada fila del DataFrame corresponde a una estrella del cielo y, como habra notado, hay dos columnas denominadas **pmra** y **pmdec**. Estas representan el movimiento propio en ascensión recta y el movimiento propio en declinación, respectivamente, que son los desplazamientos de una estrella en dos ejes distintos del cielo: RA y DEC.\n",
        "\n",
        "Selecciona del DataFrame los datos de las columnas **pmra** y **pmdec** y guárdalos en las variables indicadas. Luego, realiza un gráfico de dispersión (scatter plot) colocando en el eje x los datos de \"pmra\" y en el eje y los de \"pmdec\"."
      ]
    },
    {
      "cell_type": "code",
      "execution_count": null,
      "metadata": {
        "collapsed": true,
        "id": "ljT-OoR0madd",
        "jupyter": {
          "outputs_hidden": true
        },
        "colab": {
          "base_uri": "https://localhost:8080/"
        },
        "outputId": "5f6d567f-2892-440c-bd6c-df5e9bbf6fd6"
      },
      "outputs": [
        {
          "output_type": "stream",
          "name": "stdout",
          "text": [
            "0      0.053134\n",
            "1     -0.960711\n",
            "2      0.674957\n",
            "3     -0.057975\n",
            "4     -0.438914\n",
            "         ...   \n",
            "616   -0.269935\n",
            "617   -0.962554\n",
            "618   -0.796753\n",
            "619   -0.901963\n",
            "620    0.059221\n",
            "Name: pmra, Length: 621, dtype: float64\n",
            "0     -1.674613\n",
            "1     -0.283708\n",
            "2     -1.741153\n",
            "3     -0.564131\n",
            "4     -0.487856\n",
            "         ...   \n",
            "616   -0.891652\n",
            "617   -0.400258\n",
            "618   -0.266571\n",
            "619   -0.302597\n",
            "620   -1.300554\n",
            "Name: pmdec, Length: 621, dtype: float64\n"
          ]
        }
      ],
      "source": [
        "pmra = df_cumulus['pmra']\n",
        "pmdec = df_cumulus['pmdec']\n",
        "print(pmra)\n",
        "print(pmdec)\n"
      ]
    },
    {
      "cell_type": "code",
      "execution_count": null,
      "metadata": {
        "id": "4gkoGTBgmt1L",
        "colab": {
          "base_uri": "https://localhost:8080/",
          "height": 449
        },
        "outputId": "fcc5bfbd-862d-47a2-b79a-1123a0f7c7a3"
      },
      "outputs": [
        {
          "output_type": "display_data",
          "data": {
            "text/plain": [
              "<Figure size 640x480 with 1 Axes>"
            ],
            "image/png": "[encoded data removed]"
          },
          "metadata": {}
        }
      ],
      "source": [
        "# Haga el gráfico en esta celda\n",
        "fig, ax = plt.subplots()\n",
        "plt.scatter(pmra, pmdec, marker='.')\n",
        "plt.xlabel('pmra')\n",
        "plt.ylabel('pmdec')\n",
        "plt.show()"
      ]
    },
    {
      "cell_type": "markdown",
      "metadata": {
        "id": "8GmiOdWRmxs8"
      },
      "source": [
        "Si observa bien, parece que los puntos se concentran hacia la parte izquierda del gráfico. Ese grupo representa los movimientos propios de las estrellas que pertencen al cúmulo globular. Los demás puntos corresponden a los movimientos propios de estrellas de la galaxia que se \"colaron\" en la línea de visión entre nosotros (Tierra) y el cúmulo."
      ]
    },
    {
      "cell_type": "markdown",
      "metadata": {
        "id": "06TGBeMC_6By"
      },
      "source": [
        "### c) Generar distribución Gaussiana\n",
        "Calcule el promedio y la desviación estándar de ambas columnas (**pmra** y **pmdec**) y guárdelos en las variables que se indican."
      ]
    },
    {
      "cell_type": "code",
      "execution_count": null,
      "metadata": {
        "id": "yQr1b2gToCfa"
      },
      "outputs": [],
      "source": [
        "mu_pmra = pmra.mean()\n",
        "std_pmra = pmra.std()\n",
        "\n",
        "mu_pmdec = pmdec.mean()\n",
        "std_pmdec = pmdec.std()"
      ]
    },
    {
      "cell_type": "markdown",
      "metadata": {
        "id": "EDQZsqWSo4BI"
      },
      "source": [
        "Con los promedios y desviaciones estandar obtenidas, simule una distribución gaussiana para cada eje del movimieto propio (pmra y pmdec). Recuerda que la distribución gaussiana es de la forma:\n",
        "\n",
        "$$f(x) = \\frac{1}{\\sqrt{2\\pi\\sigma^2}}e^{-\\frac{(x-\\mu)^2}{2\\sigma^2}}$$\n",
        "\n",
        "\n",
        "Por lo que necesitamos los valores de $x, \\mu$ y $\\sigma$ para cada caso.\n",
        "\n",
        "**En ascención recta**:\n",
        "1. Crea un arreglo de 300 números que estén entre -1.5 y 1. Este sería el $x$\n",
        "2. Con $\\mu$ y $\\sigma$ correspondientes a pmra calculados en la celda de arriba, genere los valores $f(x)$. Para eso, utilize la función **norm** de **scipy.stats** que está importada en la siguiente celda. Usa el método **pdf** (probability density function)\n",
        "\n",
        "\n",
        "\n",
        "**En declinación:**\n",
        "Haga lo mismo, pero el $x$ sería 300 números que estén entre -2.5 y 0.5."
      ]
    },
    {
      "cell_type": "code",
      "execution_count": null,
      "metadata": {
        "id": "gR7uz9K0o4Pj"
      },
      "outputs": [],
      "source": [
        "from scipy.stats import norm\n",
        "\n",
        "x_pmra =\n",
        "fx_pmra =\n",
        "\n",
        "x_pmdec =\n",
        "fx_pmdec ="
      ]
    },
    {
      "cell_type": "markdown",
      "metadata": {
        "id": "PRr7uiMTALrW"
      },
      "source": [
        "### d) Graficar histogramas de la distribución de movimientos propios junto a la distribución Gaussiana\n",
        "\n",
        "Grafique con matplotlib un hitograma (busque qué método de matplotlib sirve) de pmra y sobre él grafique la gaussiana correspondiente."
      ]
    },
    {
      "cell_type": "code",
      "execution_count": null,
      "metadata": {
        "id": "rseJSP8r1yfh"
      },
      "outputs": [],
      "source": []
    },
    {
      "cell_type": "markdown",
      "metadata": {
        "id": "hUFWG5eS10dE"
      },
      "source": [
        "Notará que la gaussiana apenas se ve en el gráfico, esto es porque la gaussiana está normalizada (el área bajo la curva es 1), pero esto no es así para el histograma. El problema se puede arreglar incluyendo el parámetro **density=True** en el método que grafica el histograma.\n",
        "\n",
        "Repita la gráfica anterior pero ahora tanto para pmra como para pmdec e incorporando la modificación de **density=True**. Muestre los gráficos en una misma figura como subplots."
      ]
    },
    {
      "cell_type": "code",
      "execution_count": null,
      "metadata": {
        "id": "zVQmIYkC5Iwl"
      },
      "outputs": [],
      "source": []
    },
    {
      "cell_type": "markdown",
      "metadata": {
        "id": "9XPRCYBT5SKE"
      },
      "source": [
        "Repita la figura anterior y ahora agréguele a cada gráfica (pmra y pmdec) una franja vertical que abarque $\\mu \\pm \\sigma$ utilizando **plt.axvspan()**"
      ]
    },
    {
      "cell_type": "code",
      "execution_count": null,
      "metadata": {
        "id": "LrTcPtZG5_4z"
      },
      "outputs": [],
      "source": []
    },
    {
      "cell_type": "markdown",
      "metadata": {
        "id": "TeKH3rnms03h"
      },
      "source": [
        "Según las gaussiaas obtenidas, ¿Cuál es la estimación para pmra y pmdec del cúmulo globular?\n",
        "\n",
        "**Respuesta:**"
      ]
    },
    {
      "cell_type": "markdown",
      "metadata": {
        "id": "_ad3fEpu_fzn"
      },
      "source": [
        "# Segunda parte: Señal a Ruido\n",
        "Para la siguiente parte deberá trabajar con datos de espectros con líneas de emisión. Un espéctro lo puede entender como un gráfico de potencia vs longitud de onda.\n",
        "\n",
        "Abra el archivo **data_spectra.csv** con pandas y muestre el DataFrame. (No es necesario montar de nuevo el drive porque ya se hizo en la parte anterior).\n",
        "\n",
        "Las columnas **obs** corresponden a observaciones (espectro) de un objeto, en la que cada valor corresponde a la potencia asociada a una longitud de onda. La columna **Wlth** corresponde a las longitudes de onda."
      ]
    },
    {
      "cell_type": "code",
      "execution_count": null,
      "metadata": {
        "id": "oeslf5cZUU19"
      },
      "outputs": [],
      "source": [
        "# Lea y muestre el DataFrame aquí\n",
        "data =\n"
      ]
    },
    {
      "cell_type": "markdown",
      "metadata": {
        "id": "hq24-d-hUEKK"
      },
      "source": [
        "### a) Gráfico de primer espectro:\n",
        "Grafique el espectro de la primera observación (columna **obs_1** vs columna **Wlth**) y responda: ¿Cuántas líneas de emisión detecta a simple vista?\n",
        "\n",
        "**Respuesta:**"
      ]
    },
    {
      "cell_type": "code",
      "execution_count": null,
      "metadata": {
        "id": "ASKjJCIgVRm5"
      },
      "outputs": [],
      "source": [
        "# Grafique aquí\n"
      ]
    },
    {
      "cell_type": "markdown",
      "metadata": {
        "id": "lw7a4L36VLSx"
      },
      "source": [
        "Notará que los valores del eje y están centrados alrededor de 1. Centre la observación en 0. Para esto, estime el valor medio del ruido y réstelo a todo el espectro ¿Cómo piensa que podria hacer esto?. Grafique el espectro resultante.\n",
        "\n",
        "**Respuesta:**"
      ]
    },
    {
      "cell_type": "code",
      "execution_count": null,
      "metadata": {
        "id": "0wp3qEGDV2Ro"
      },
      "outputs": [],
      "source": [
        "# Grafique el espectro centrado en 0 aquí\n"
      ]
    },
    {
      "cell_type": "markdown",
      "metadata": {
        "id": "-wctIMluXMSn"
      },
      "source": [
        "### b) Nivel de ruido:\n",
        "\n",
        "En esta parte estimaremos el nivel de ruido de la la observación 1 de una forma distinta. Para esto siga los sigueintes pasos:"
      ]
    },
    {
      "cell_type": "markdown",
      "metadata": {
        "id": "0Grj907EXPpB"
      },
      "source": [
        "1. Tome la columna **obs_1** y guarde en la variable **ruido** un subconjunto de datos centrados en la media de **obs_1** con un margen de $\\pm 3 \\sigma$, con $\\sigma$ la desviación estándar de **obs_1**.\n",
        "\n",
        "Note que este subconjunto corresponde a ruido principalmente."
      ]
    },
    {
      "cell_type": "code",
      "execution_count": null,
      "metadata": {
        "id": "njBzind3Xemx"
      },
      "outputs": [],
      "source": [
        "ruido ="
      ]
    },
    {
      "cell_type": "markdown",
      "metadata": {
        "id": "Hf5enNp6XfiJ"
      },
      "source": [
        "2. Reste la media del ruido al espectro para centrar y grafique el espectro resultante."
      ]
    },
    {
      "cell_type": "code",
      "execution_count": null,
      "metadata": {
        "id": "xnjenF_OXkCR"
      },
      "outputs": [],
      "source": [
        "# Grafique el espectro centrado en 0 aquí\n"
      ]
    },
    {
      "cell_type": "markdown",
      "metadata": {
        "id": "Mv4guDgcXkXy"
      },
      "source": [
        "3. Calcule $\\sigma$ del ruido y grafique un margen de $\\pm n*\\sigma$ (con $n$ entero) sobre el espectro como dos líneas horizontales. ¿Qué valor de $n$ le parece adecuado y por qué? este será el nivel de ruido.\n",
        "\n",
        "**Respuesta:**"
      ]
    },
    {
      "cell_type": "code",
      "execution_count": null,
      "metadata": {
        "id": "Sm3sOgOxX3EX"
      },
      "outputs": [],
      "source": []
    },
    {
      "cell_type": "markdown",
      "metadata": {
        "id": "d7y0fEa5bIa6"
      },
      "source": [
        "### c) Disminución de $\\sigma$\n",
        "\n",
        "Ahora verá cómo el nivel de ruido disminuye al promediar observaciones. Siga los siguientes pasos:\n",
        "\n",
        "1. Centre todas las observaciones en 0 de la misma manera hecha en ela parte b). Como consejo, puede recorrer las columnas del DataFrame con un for y modificar solo las que correspondan a una observación."
      ]
    },
    {
      "cell_type": "code",
      "execution_count": null,
      "metadata": {
        "id": "uyvsnX2-beug"
      },
      "outputs": [],
      "source": []
    },
    {
      "cell_type": "markdown",
      "metadata": {
        "id": "0C5ZCBMvbfWo"
      },
      "source": [
        "2. A continuación verá cómo cambia sigma a medida que promediamos los espectros. Para esto realice el siguiente algoritmo:\n",
        "\n",
        " - Calcule $\\sigma$ de **obs_1**.\n",
        " - Promedie **obs_1** y **obs_2**, y calcule $\\sigma$.\n",
        " - Promedie **obs_1**, **obs_2** y **obs_3**, y calcule $\\sigma$.\n",
        " - Siga hasta haber promediado todas las observaciones (recuerde guardar los valores de $\\sigma$)\n",
        "\n",
        " Añada al DataFrame una nueva columna **obs_all** que corresponda al promedio de todos los espectros."
      ]
    },
    {
      "cell_type": "code",
      "execution_count": null,
      "metadata": {
        "id": "e8gNHUT1brEv"
      },
      "outputs": [],
      "source": []
    },
    {
      "cell_type": "markdown",
      "metadata": {
        "id": "VnU_U3BobvJs"
      },
      "source": [
        " 3. Finalmente grafique los valores de $\\sigma$ en funcion de $N$, con $N$ el numero de observaciones promediada. ¿Qué ocurre con $\\sigma$? ¿Es esperado el resultado? Comente.\n",
        "\n",
        "**Respuesta:**"
      ]
    },
    {
      "cell_type": "code",
      "execution_count": null,
      "metadata": {
        "id": "Kndqs-L_bxuY"
      },
      "outputs": [],
      "source": []
    },
    {
      "cell_type": "markdown",
      "metadata": {
        "id": "buhUwcZaGujJ"
      },
      "source": [
        "### d) Promedio de observaciones\n",
        "\n",
        "Finalmente grafique el promedio de todas las observaciones (columna **obs_all** vs columna **Wlth**). ¿Cuántas líneas de emisión puede apreciar ahora? ¿Podría explicar a qué se debe? Comente.\n",
        "\n",
        "**Respuesta:**"
      ]
    },
    {
      "cell_type": "code",
      "execution_count": null,
      "metadata": {
        "id": "yKyC9j53dT5U"
      },
      "outputs": [],
      "source": []
    }
  ],
  "metadata": {
    "colab": {
      "provenance": [],
      "include_colab_link": true
    },
    "kernelspec": {
      "display_name": "Python 3 (ipykernel)",
      "language": "python",
      "name": "python3"
    },
    "language_info": {
      "codemirror_mode": {
        "name": "ipython",
        "version": 3
      },
      "file_extension": ".py",
      "mimetype": "text/x-python",
      "name": "python",
      "nbconvert_exporter": "python",
      "pygments_lexer": "ipython3",
      "version": "3.10.12"
    }
  },
  "nbformat": 4,
  "nbformat_minor": 0
}